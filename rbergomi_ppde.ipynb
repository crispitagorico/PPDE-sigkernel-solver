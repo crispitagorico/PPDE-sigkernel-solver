{
 "cells": [
  {
   "cell_type": "code",
   "execution_count": 1,
   "metadata": {
    "colab": {
     "base_uri": "https://localhost:8080/"
    },
    "id": "iJv2D01QRPTO",
    "outputId": "9ed45d1c-0f86-4326-affe-728ce8bd47f7"
   },
   "outputs": [],
   "source": [
    "# !pip install git+https://github.com/crispitagorico/sigkernel.git\n",
    "# !git clone 'https://github.com/ryanmccrickerd/rough_bergomi.git'"
   ]
  },
  {
   "cell_type": "code",
   "execution_count": 1,
   "metadata": {
    "id": "rCD6FgadFjvr"
   },
   "outputs": [],
   "source": [
    "import numpy as np\n",
    "import torch\n",
    "from tqdm.notebook import tqdm\n",
    "import matplotlib.pyplot as plt\n",
    "import time\n",
    "import seaborn as sns\n",
    "\n",
    "from rbergomi import rBergomi_MC_pricer, rBergomi_sigkernel_pricer\n",
    "from utils import *\n",
    "\n",
    "import warnings\n",
    "warnings.filterwarnings('ignore')"
   ]
  },
  {
   "cell_type": "code",
   "execution_count": 2,
   "metadata": {},
   "outputs": [],
   "source": [
    "device = torch.device(\"cuda\" if torch.cuda.is_available() else \"cpu\")"
   ]
  },
  {
   "cell_type": "code",
   "execution_count": 13,
   "metadata": {
    "id": "T5q7TYWVPtbN"
   },
   "outputs": [],
   "source": [
    "# model parameters\n",
    "T, a, xi, eta, rho = 1., -.4, .055, 1.9, -.9\n",
    "n_increments       = 20\n",
    "log_strike         = -5.  \n",
    "payoff             = lambda x: max(np.exp(x) - np.exp(log_strike), 0.) # call\n",
    "x_var              = 5.\n",
    "\n",
    "# evaluation points\n",
    "n_eval       = 100\n",
    "t_inds_eval  = np.random.choice(n_increments, n_eval)\n",
    "xs_eval      = generate_xs(xi, x_var, t_inds_eval)\n",
    "paths_eval   = generate_theta_paths(t_inds_eval, n_increments, T, a)\n",
    "\n",
    "# sigkernel PDE computation params\n",
    "dyadic_order, max_batch = 2, 200\n",
    "\n",
    "# error\n",
    "error_fn, error_name, precisions = mse, 'MSE', [1e-2, 1e-3, 1e-4]\n",
    "# error_fn, error_name, precisions = mae, 'MAE', [1e-1]"
   ]
  },
  {
   "cell_type": "code",
   "execution_count": 14,
   "metadata": {},
   "outputs": [],
   "source": [
    "# ground truth prices\n",
    "n_samples_MC_exact = 100000\n",
    "mc_pricer_exact = rBergomi_MC_pricer(n_increments, n_samples_MC_exact, T, a, xi, eta, rho)\n",
    "mc_prices_exact = mc_pricer_exact.fit_predict(t_inds_eval, xs_eval, paths_eval, payoff)"
   ]
  },
  {
   "cell_type": "code",
   "execution_count": null,
   "metadata": {},
   "outputs": [
    {
     "name": "stdout",
     "output_type": "stream",
     "text": [
      "sigma_t: 1.0, sigma_x: 1.0, sigma_sig: 1.0, MSE: 6319.552721846827\n",
      "sigma_t: 1.0, sigma_x: 1.0, sigma_sig: 5.0, MSE: 191.96201808324523\n",
      "sigma_t: 1.0, sigma_x: 1.0, sigma_sig: 10.0, MSE: 11.687660436187288\n",
      "sigma_t: 1.0, sigma_x: 1.0, sigma_sig: 500.0, MSE: 11.642344228580605\n",
      "sigma_t: 5.0, sigma_x: 1.0, sigma_sig: 50.0, MSE: 3.3375056567778576\n",
      "sigma_t: 5.0, sigma_x: 1.0, sigma_sig: 1000.0, MSE: 0.23824869232453835\n",
      "sigma_t: 50.0, sigma_x: 1.0, sigma_sig: 500.0, MSE: 0.09240869775684976\n",
      "sigma_t: 50.0, sigma_x: 1.0, sigma_sig: 1000000.0, MSE: 0.05983267025482176\n",
      "sigma_t: 50.0, sigma_x: 5.0, sigma_sig: 5000.0, MSE: 0.0566868360243358\n",
      "sigma_t: 50.0, sigma_x: 5.0, sigma_sig: 500000.0, MSE: 0.04300174799222233\n",
      "sigma_t: 100.0, sigma_x: 1.0, sigma_sig: 50000.0, MSE: 0.0006217557785437444\n",
      "sigma_t: 100.0, sigma_x: 1.0, sigma_sig: 500000.0, MSE: 4.314902428246287e-05\n",
      "sigma_t: 500.0, sigma_x: 1.0, sigma_sig: 50000.0, MSE: 2.2547088306385336e-05\n"
     ]
    }
   ],
   "source": [
    "# grid search for kernel parameters\n",
    "m, n = 100, 80\n",
    "sigmas = [1e0, 5e0, 1e1, 5e1, 1e2, 5e2, 1e3, 5e3, 1e4, 5e4, 1e5, 5e5, 1e6]\n",
    "mse_score = 1e5\n",
    "for sigma_t in sigmas:\n",
    "    for sigma_x in sigmas:\n",
    "        for sigma_sig in sigmas:\n",
    "            sig_pricer = rBergomi_sigkernel_pricer(n_increments, x_var, m, n, T, a, xi, eta, rho, sigma_t, sigma_x, sigma_sig, dyadic_order, max_batch, device)\n",
    "            sig_pricer.fit(payoff)\n",
    "            sig_prices = sig_pricer.predict(t_inds_eval, xs_eval, paths_eval) \n",
    "            mse_score_pred = error_fn(mc_prices_exact, sig_prices)\n",
    "            if mse_score_pred < mse_score: \n",
    "                print(f'sigma_t: {sigma_t}, sigma_x: {sigma_x}, sigma_sig: {sigma_sig}, MSE: {mse_score_pred}')\n",
    "                mse_score = mse_score_pred\n",
    "                sigma_t_best, sigma_x_best, sigma_sig_best = sigma_t, sigma_x, sigma_sig"
   ]
  },
  {
   "cell_type": "code",
   "execution_count": null,
   "metadata": {},
   "outputs": [],
   "source": [
    "n_samples_mc, error_mc = 0, 1e9\n",
    "m, n, error_sig        = 0, 0, 1e9\n",
    "\n",
    "for precision in precisions:\n",
    "\n",
    "    # MC prices\n",
    "    while error_mc > precision:\n",
    "        n_samples_mc += 500\n",
    "        mc_pricer = rBergomi_MC_pricer(n_increments, n_samples_mc, T, a, xi, eta, rho)\n",
    "        t0 = time.time()\n",
    "        mc_prices = mc_pricer.fit_predict(t_inds_eval, xs_eval, paths_eval, payoff)\n",
    "        t1 = time.time()\n",
    "        error_mc  = error_fn(mc_prices, mc_prices_exact)\n",
    "\n",
    "    print('Monte Carlo | %r: %2.5f | sample paths: %r | time: %2.4f sec' % (error_name, precision, n_samples_mc, t1-t0))\n",
    "    \n",
    "    # PPDE prices\n",
    "    while error_sig > precision:\n",
    "        m += 100\n",
    "        n += 80\n",
    "        sig_pricer = rBergomi_sigkernel_pricer(n_increments, x_var, m, n, T, a, xi, eta, rho, sigma_t_best, sigma_x_best, sigma_sig_best, dyadic_order, max_batch, device)\n",
    "        sig_pricer.fit(payoff)\n",
    "        t0 = time.time()\n",
    "        sig_prices = sig_pricer.predict(t_inds_eval, xs_eval, paths_eval) \n",
    "        t1 = time.time()\n",
    "        error_sig = error_fn(sig_prices, mc_prices_exact)\n",
    "        torch.cuda.empty_cache()\n",
    "\n",
    "    print('PPDE (sigkernel) | %r: %2.5f | collocation points: (%r,%r) | time: %2.4f sec \\n' % (error_name, precision, m, n, (t1-t0)))\n"
   ]
  },
  {
   "cell_type": "code",
   "execution_count": null,
   "metadata": {},
   "outputs": [],
   "source": []
  }
 ],
 "metadata": {
  "accelerator": "GPU",
  "colab": {
   "provenance": []
  },
  "gpuClass": "standard",
  "kernel_info": {
   "name": "python38-azureml"
  },
  "kernelspec": {
   "display_name": "Python 3.8 - AzureML",
   "language": "python",
   "name": "python38-azureml"
  },
  "language_info": {
   "codemirror_mode": {
    "name": "ipython",
    "version": 3
   },
   "file_extension": ".py",
   "mimetype": "text/x-python",
   "name": "python",
   "nbconvert_exporter": "python",
   "pygments_lexer": "ipython3",
   "version": "3.8.5"
  },
  "microsoft": {
   "ms_spell_check": {
    "ms_spell_check_language": "en"
   }
  },
  "nteract": {
   "version": "nteract-front-end@1.0.0"
  }
 },
 "nbformat": 4,
 "nbformat_minor": 4
}
